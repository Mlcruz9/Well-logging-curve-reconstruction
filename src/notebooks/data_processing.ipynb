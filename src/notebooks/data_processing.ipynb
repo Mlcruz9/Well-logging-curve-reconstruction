{
 "cells": [
  {
   "cell_type": "markdown",
   "metadata": {},
   "source": [
    "# Data processing"
   ]
  },
  {
   "cell_type": "code",
   "execution_count": 1,
   "metadata": {},
   "outputs": [],
   "source": [
    "import pandas as pd\n",
    "import numpy as np"
   ]
  },
  {
   "cell_type": "code",
   "execution_count": 14,
   "metadata": {},
   "outputs": [],
   "source": [
    "Well_1 = pd.read_csv(\"../data/processed/Well_1_clean.csv\", sep=\",\", index_col= 0)\n",
    "Well_3 = pd.read_csv(\"../data/processed/Well_3_clean.csv\", sep=\",\", index_col= 0)"
   ]
  },
  {
   "cell_type": "code",
   "execution_count": 19,
   "metadata": {},
   "outputs": [],
   "source": [
    "#Drop Well_3 NaNs, as they are few after previous data cleaning \n",
    "Well_3 = Well_3.dropna()"
   ]
  },
  {
   "cell_type": "code",
   "execution_count": null,
   "metadata": {},
   "outputs": [],
   "source": [
    "#Create positive and negative flags for \"NPHI\"\n",
    "\n",
    "#Well_1\n",
    "Well_1[\"positive_flag\"] = Well_1[Well_1[\"NPHI\"] > 0.30][\"NPHI\"]\n",
    "Well_1[\"negative_flag\"] = Well_1[Well_1[\"NPHI\"] < 0][\"NPHI\"]\n",
    "\n",
    "#Well_3\n",
    "Well_3[\"positive_flag\"] = Well_3[Well_3[\"NPHI\"] > 0.30][\"NPHI\"]\n",
    "Well_3[\"negative_flag\"] = Well_3[Well_3[\"NPHI\"] < 0][\"NPHI\"]"
   ]
  },
  {
   "cell_type": "code",
   "execution_count": null,
   "metadata": {},
   "outputs": [],
   "source": [
    "#Transform RLLD to logarithmic scale\n",
    "\n",
    "Well_1[\"RLLD_log\"] = np.log(Well_1[\"RLLD\"])\n",
    "Well_3[\"RLLD_log\"] = np.log(Well_3[\"RLLD\"])"
   ]
  },
  {
   "cell_type": "markdown",
   "metadata": {},
   "source": [
    "### Preparing Well_3 data"
   ]
  },
  {
   "cell_type": "markdown",
   "metadata": {},
   "source": [
    "Applying masks we work with a new DataFrame to not affect the previous one, which has values that doesn't appear in the flags. We will use Well_3 to generate the model after processing, as it has better hole conditions."
   ]
  },
  {
   "cell_type": "code",
   "execution_count": 26,
   "metadata": {},
   "outputs": [],
   "source": [
    "mask1 = Well_3[Well_3[\"positive_flag\"].isna()] #First mask\n",
    "Well_3_data = Well_3[Well_3[\"positive_flag\"].isna()]#Values that aren't in the flag\n",
    "Well_3_data = Well_3_data.drop(\"positive_flag\", axis=1)#Drop flag so we don't include it in the model\n",
    "\n",
    "mask2 = Well_3_data[Well_3_data[\"negative_flag\"].isna()]#Second mask\n",
    "Well_3_data = mask2\n",
    "Well_3_data = Well_3_data.drop(\"negative_flag\", axis=1)\n",
    "\n",
    "Well_3_data = Well_3_data.set_index(\"DEPTH\")#Set DEPTH as index, as we will don't use it to calculate any other feature.\n",
    "Well_3_data.replace([np.inf, -np.inf], np.nan, inplace=True)#Drop infinite values, as they aren't accepted as input in a model.\n",
    "Well_3_data.dropna(inplace=True)#Drop NaNs (Again)\n"
   ]
  },
  {
   "cell_type": "code",
   "execution_count": 27,
   "metadata": {},
   "outputs": [],
   "source": [
    "# Well_1.to_csv(\"../data/processed/processdata/Well_1_processed.csv\")\n",
    "# Well_3.to_csv(\"../data/processed/processdata/Well_3_processed.csv\")\n",
    "# Well_3_data.to_csv(\"../data/processed/Well_3_modeldata.csv\")"
   ]
  }
 ],
 "metadata": {
  "interpreter": {
   "hash": "0140da9284d3a0331c5dc8e3814dff517184f782fca30f79252c37873bf197cf"
  },
  "kernelspec": {
   "display_name": "Python 3.7.4 64-bit",
   "language": "python",
   "name": "python3"
  },
  "language_info": {
   "codemirror_mode": {
    "name": "ipython",
    "version": 3
   },
   "file_extension": ".py",
   "mimetype": "text/x-python",
   "name": "python",
   "nbconvert_exporter": "python",
   "pygments_lexer": "ipython3",
   "version": "3.7.4"
  },
  "orig_nbformat": 4
 },
 "nbformat": 4,
 "nbformat_minor": 2
}
