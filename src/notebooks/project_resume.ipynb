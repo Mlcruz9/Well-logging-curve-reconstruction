{
 "cells": [
  {
   "cell_type": "markdown",
   "metadata": {},
   "source": [
    "# Hydrocarbon prospective well logs analysis and curve reconstruction with Python/Sklearn.\n",
    "\n",
    "By: Miguel La Cruz."
   ]
  },
  {
   "cell_type": "code",
   "execution_count": 1,
   "metadata": {},
   "outputs": [],
   "source": [
    "#Importing libraries\n",
    "import pandas as pd\n",
    "import numpy as np\n",
    "import matplotlib.pyplot as plt\n",
    "import warnings\n",
    "warnings.filterwarnings(\"ignore\")\n",
    "import seaborn as sns\n",
    "import functions"
   ]
  },
  {
   "cell_type": "code",
   "execution_count": 7,
   "metadata": {},
   "outputs": [],
   "source": [
    "#Import wells data\n",
    "Well_1 = pd.read_csv(\"../data/raw/Well_1_mincols.csv\", sep=\";\")\n",
    "Well_3 = pd.read_csv(\"../data/processed/Well_3_modeldata.csv\", sep=\";\")"
   ]
  },
  {
   "cell_type": "markdown",
   "metadata": {},
   "source": [
    "As we know, ***machine learning*** has endless applications and we can use it to develop optimal solutions to diverse problems.\n",
    "\n",
    "In the field of petrophysics has a considerable utility and everyday is in constant growth, applied to the cluster analysis to determine sedimentary facies, generation of synthetic well curves, and so on.\n",
    "\n",
    "The present analysis approachs the posibility of repairing low cuality curves (logs) available of a well, either for presence of washouts or other factors that may disturb the response of before mentioned curves.\n",
    "\n",
    "We will evaluate two wells (\"Well_1\", \"Well_3\")."
   ]
  },
  {
   "cell_type": "markdown",
   "metadata": {},
   "source": [
    "Logs we will be using:\n",
    "\n",
    "* **DEPTH**: Depth in (Ft)\n",
    "* **CAL**: Caliper diameter in (In)\n",
    "* **NPHI**: Neutron porosity in (Frac)\n",
    "* **DT**: Sonic in (ms/in)\n",
    "* **GR**: Gamma ray in ºAPI\n",
    "* **RHOB**: Density in (g/cm3)\n",
    "* **RLLD**: Deep electric log in (ohm/mts)\n",
    "* **RT**: Electric log in (ohm/mts)\n",
    "* **BS**: Bit size in (In)\n",
    "\n",
    "**Columns (Well_1)**\n",
    "\n",
    "<img src=\"img/excel_img_2.png\" alt=\"eximg_1\" width=\"700\"/>"
   ]
  },
  {
   "cell_type": "markdown",
   "metadata": {},
   "source": [
    "* #### **Step one: Data from \"object\" to \"float\"**\n",
    "\n",
    "Data is received in .las format, and when we transform it to .csv format in order to work with it easier the formats of columns are changed, therefore we need to transform columns to float so we can operate with them.\n",
    "\n",
    "<br>\n",
    "\n",
    "* #### **Step two: Repair errors caused by data transforming**\n",
    "\n",
    "When we transform data to .csv errors in the data appear, as exaggerated values (with more \"0s\"), so we have to correct it.\n",
    "\n",
    "<br>\n",
    "\n",
    "* #### **Step three: Preliminar visualization**\n",
    "\n",
    "Brief visualization to the state of the data to check for anomalies and nulls.\n",
    "\n",
    "<br>\n",
    "\n",
    "* #### **Step four: Drop nulls**\n",
    "\n",
    "Drop null values, as we don't have too much of it.\n",
    "\n",
    "<br>\n",
    "\n",
    "* #### **Step five: Curve visualization on tracks**\n",
    "\n",
    "We proceed to generate tracks to visualize features.\n",
    "\n",
    "<br>\n",
    "\n",
    "* #### **Step six: Creating flags**\n",
    "\n",
    "We create \"flags\" of data where NPHI is above 0.30 (too high porosities) and below 0 (nulls) so we can look where these values could be found and then be able to determine causes, and if we have to eliminate them (anomalies caused by faulty data).\n",
    "\n",
    "<br>\n",
    "\n",
    "* #### **Step seven: Drop abnormal values**\n",
    "\n",
    "We proceed to eliminate abnormal values.\n",
    "\n",
    "<br>\n",
    "\n",
    "* #### **Step eight: Selecting models**\n",
    "\n",
    "We try multiple models and select the one which repair better the NPHI curve without being overfitted. We use \"MAE\" as error metric (Mean absolute error).\n",
    "\n",
    "<br>\n",
    "\n",
    "* #### **Step nine: We use better model to predict NPHI in both wells**\n",
    "\n",
    "We use better model to predict NPHI in both wells, having previously determined that a model could work for both wells (same field wells with similar values and data distribution)\n",
    "\n",
    "<br>\n",
    "\n",
    "* #### **Step ten: Curve repairing interpretation**\n",
    "\n",
    "We analize curve repairing and what we could need to improve the results.\n"
   ]
  }
 ],
 "metadata": {
  "interpreter": {
   "hash": "0140da9284d3a0331c5dc8e3814dff517184f782fca30f79252c37873bf197cf"
  },
  "kernelspec": {
   "display_name": "Python 3.7.4 64-bit",
   "language": "python",
   "name": "python3"
  },
  "language_info": {
   "codemirror_mode": {
    "name": "ipython",
    "version": 3
   },
   "file_extension": ".py",
   "mimetype": "text/x-python",
   "name": "python",
   "nbconvert_exporter": "python",
   "pygments_lexer": "ipython3",
   "version": "3.7.4"
  },
  "orig_nbformat": 4
 },
 "nbformat": 4,
 "nbformat_minor": 2
}
